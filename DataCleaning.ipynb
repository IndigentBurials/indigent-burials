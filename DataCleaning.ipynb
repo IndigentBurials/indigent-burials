{
 "cells": [
  {
   "cell_type": "code",
   "execution_count": 52,
   "metadata": {},
   "outputs": [],
   "source": [
    "import pandas as pd\n",
    "import numpy as np"
   ]
  },
  {
   "cell_type": "markdown",
   "metadata": {},
   "source": [
    "# Load Data"
   ]
  },
  {
   "cell_type": "code",
   "execution_count": 58,
   "metadata": {},
   "outputs": [
    {
     "name": "stderr",
     "output_type": "stream",
     "text": [
      "/Users/simon/opt/anaconda3/lib/python3.8/site-packages/IPython/core/interactiveshell.py:3418: DtypeWarning: Columns (2,3,4,5,6,7,9,10,11,12,13,16,17,18,19,20,21,22,24,25,26,27,28,29,30,33,34,35,36) have mixed types.Specify dtype option on import or set low_memory=False.\n",
      "  exec(code_obj, self.user_global_ns, self.user_ns)\n"
     ]
    }
   ],
   "source": [
    "# Load Hart Island Data\n",
    "hart_island = pd.read_csv(\"https://raw.githubusercontent.com/IndigentBurials/hart-island-web-scraper/main/data/output/hart-island.csv\")\n",
    "\n",
    "# Load indigent burial data\n",
    "data = pd.read_csv(\"./data/indigent_burials.csv\")"
   ]
  },
  {
   "cell_type": "markdown",
   "metadata": {},
   "source": [
    "# Append new HI data to dataframe"
   ]
  },
  {
   "cell_type": "code",
   "execution_count": 59,
   "metadata": {},
   "outputs": [],
   "source": [
    "# Drop all old Hart Island entries\n",
    "data = data[data['Jurisdiction'] != \"Hart Island\"]"
   ]
  },
  {
   "cell_type": "code",
   "execution_count": 60,
   "metadata": {},
   "outputs": [],
   "source": [
    "# Combine add new hart island data back in\n",
    "data = pd.concat([data, hart_island])\n",
    "# Reset the index\n",
    "data = data.reset_index().drop(columns=['index'])"
   ]
  },
  {
   "cell_type": "markdown",
   "metadata": {},
   "source": [
    "# Standardize Sex column to M/F/U"
   ]
  },
  {
   "cell_type": "code",
   "execution_count": 61,
   "metadata": {},
   "outputs": [],
   "source": [
    "# Standardize column values\n",
    "data['Sex'] = data['Sex'].str.upper()\n",
    "\n",
    "# Get list of aliases from data\n",
    "male_alias = ['MALE', 'M']\n",
    "female_alias = ['FEMALE', 'F']\n",
    "unknown_alias = ['UNKNOWN', 'UNSURE', '--']\n",
    "\n",
    "# Create list for sex\n",
    "sex_list = []\n",
    "\n",
    "for index, row in data.iterrows():\n",
    "    if row['Sex'] in male_alias:\n",
    "        sex_list.append(\"M\")\n",
    "    elif row['Sex'] in female_alias:\n",
    "        sex_list.append(\"F\")\n",
    "    else:\n",
    "        sex_list.append(\"U\")\n",
    "        \n",
    "data['Sex'] = sex_list"
   ]
  },
  {
   "cell_type": "markdown",
   "metadata": {},
   "source": [
    "# Drop Age Group Column"
   ]
  },
  {
   "cell_type": "code",
   "execution_count": 62,
   "metadata": {},
   "outputs": [],
   "source": [
    "data = data.drop(columns=['AgeGroup'])"
   ]
  },
  {
   "cell_type": "markdown",
   "metadata": {},
   "source": [
    "# Standardize Age variable"
   ]
  },
  {
   "cell_type": "code",
   "execution_count": 70,
   "metadata": {},
   "outputs": [],
   "source": [
    "# Create list for age variable\n",
    "age_vals = []\n",
    "\n",
    "# Loop through all rows and try to cast to integer\n",
    "for index, row in data.iterrows():\n",
    "    try:\n",
    "        age = int(row['Age'])\n",
    "        \n",
    "        if age > 150:\n",
    "            age_vals.append('NA')\n",
    "        else:\n",
    "            age_vals.append(age)\n",
    "    except ValueError:\n",
    "        age_vals.append('NA')\n",
    "        \n",
    "# Append new age values to dataframe\n",
    "data['Age'] = age_vals\n",
    "# Replace \"NA\" with NaN values\n",
    "data['Age'] = data['Age'].replace('NA', np.nan)\n",
    "# Cast the column to integer\n",
    "data['Age'] = pd.to_numeric(data['Age'], errors='coerce')"
   ]
  },
  {
   "cell_type": "markdown",
   "metadata": {},
   "source": [
    "# Look into Location variable"
   ]
  },
  {
   "cell_type": "code",
   "execution_count": 76,
   "metadata": {},
   "outputs": [
    {
     "data": {
      "text/plain": [
       "Fairview Cemetery             547\n",
       "Tahoma                        392\n",
       "Evangelico Cemetery           233\n",
       "Santa Fe National Cemetery    132\n",
       "Coroner's Office               34\n",
       "Tahoma                          1\n",
       "Name: Location, dtype: int64"
      ]
     },
     "execution_count": 76,
     "metadata": {},
     "output_type": "execute_result"
    }
   ],
   "source": [
    "data.Location.value_counts()"
   ]
  },
  {
   "cell_type": "markdown",
   "metadata": {},
   "source": [
    "# Date of Birth"
   ]
  },
  {
   "cell_type": "code",
   "execution_count": 78,
   "metadata": {},
   "outputs": [
    {
     "data": {
      "text/plain": [
       "2019-12-19    848\n",
       "2019-04-23    327\n",
       "2020-08-12    278\n",
       "2021-10-25    206\n",
       "2020-05-07    190\n",
       "             ... \n",
       "2015-07-11      1\n",
       "2016-11-04      1\n",
       "2020-06-04      1\n",
       "2020-05-16      1\n",
       "2015-08-05      1\n",
       "Name: DOB, Length: 1282, dtype: int64"
      ]
     },
     "execution_count": 78,
     "metadata": {},
     "output_type": "execute_result"
    }
   ],
   "source": [
    "data.DOB.value_counts()"
   ]
  },
  {
   "cell_type": "markdown",
   "metadata": {},
   "source": [
    "# Create flag for gather type"
   ]
  },
  {
   "cell_type": "code",
   "execution_count": 79,
   "metadata": {},
   "outputs": [],
   "source": [
    "data['GatherType'] = 'Web Scraping'"
   ]
  },
  {
   "cell_type": "markdown",
   "metadata": {},
   "source": [
    "# Drop isClaimed flag"
   ]
  },
  {
   "cell_type": "code",
   "execution_count": 81,
   "metadata": {},
   "outputs": [],
   "source": [
    "data = data.drop(columns=['isClaimed'])"
   ]
  }
 ],
 "metadata": {
  "kernelspec": {
   "display_name": "Python 3",
   "language": "python",
   "name": "python3"
  },
  "language_info": {
   "codemirror_mode": {
    "name": "ipython",
    "version": 3
   },
   "file_extension": ".py",
   "mimetype": "text/x-python",
   "name": "python",
   "nbconvert_exporter": "python",
   "pygments_lexer": "ipython3",
   "version": "3.8.5"
  }
 },
 "nbformat": 4,
 "nbformat_minor": 4
}
