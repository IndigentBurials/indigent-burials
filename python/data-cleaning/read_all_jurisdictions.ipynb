{
 "cells": [
  {
   "cell_type": "code",
   "execution_count": 1,
   "id": "ceb1e7e0",
   "metadata": {},
   "outputs": [],
   "source": [
    "import pandas as pd\n",
    "import numpy as np\n",
    "import os"
   ]
  },
  {
   "cell_type": "code",
   "execution_count": 27,
   "id": "b15ea346",
   "metadata": {},
   "outputs": [
    {
     "name": "stdout",
     "output_type": "stream",
     "text": [
      "/Users/celiahealy/Documents/GitHub/indigent-burials/python/web-scraping/\n",
      "['oregon-and-dignity-memorial', 'fresno-scraping', 'dona-ana-scraping', 'bernalillo-county', 'chicago-cookcounty', 'yakima-county', 'KingCounty', 'hart-island-web-scraper', 'la-county', 'namus']\n"
     ]
    }
   ],
   "source": [
    "path = \"/\".join(os.getcwd().split(\"/\")[0:-1]) + \"/web-scraping/\"\n",
    "print(path)\n",
    "jurisdictions = os.listdir(path)\n",
    "\n",
    "jurisdictions.remove(\".DS_Store\")\n",
    "print(jurisdictions)"
   ]
  },
  {
   "cell_type": "code",
   "execution_count": 31,
   "id": "bbc9c6ee",
   "metadata": {},
   "outputs": [
    {
     "name": "stdout",
     "output_type": "stream",
     "text": [
      "['dignity-memorial.csv', 'oregon.csv']\n",
      "['fresno-cleaned3.csv', 'fresno-O-P.csv', 'fresno-G-H.csv', 'fresno-S-T.csv', 'fresno-Y-Z.csv', 'fresno-Q-R.csv', 'fresno-cleaned3-v2.csv', 'fresno-U-V.csv', 'fresno-W-X.csv', 'fresno-I-J.csv', 'fresno-M-N.csv', 'fresno-A-B.csv', 'fresno-E-F.csv', 'fresno.csv', 'fresno-C-D.csv', 'fresno-K-L.csv']\n",
      "['dona-ana-cleaned-v2.csv', 'dona-ana-cleaned.csv', 'dona-ana.csv']\n",
      "['bernalillo county_unclaimed.csv', 'bernalillo county_indigent_unfilters.csv']\n",
      "['Medical_Examiner_-_Burial_Locations.csv', 'Medical_Examiner_Indigent_Cremations.csv']\n",
      "['Unclaimed Remains_Yakima County.csv']\n",
      "['KingCounty Seattle Burial Names  - Sheet1.csv']\n",
      "[]\n",
      "['LA Cremation_Merged Files.csv', 'LA Cremation Data Enhanced.csv']\n",
      "['unclaimed_NY_states.csv', 'unclaimed_states_combined.csv', 'unclaimed_states.csv', 'unclaimed_states_combined_cleaned.csv']\n"
     ]
    }
   ],
   "source": [
    "for i in jurisdictions:\n",
    "    sub_path = path + i + \"/data/\"\n",
    "    files = os.listdir(sub_path)\n",
    "    check = [i for i in files if \".csv\" in i]\n",
    "    print(check)\n",
    "\n",
    "    "
   ]
  },
  {
   "cell_type": "code",
   "execution_count": null,
   "id": "1b91a694",
   "metadata": {},
   "outputs": [],
   "source": []
  }
 ],
 "metadata": {
  "kernelspec": {
   "display_name": "Python 3 (ipykernel)",
   "language": "python",
   "name": "python3"
  },
  "language_info": {
   "codemirror_mode": {
    "name": "ipython",
    "version": 3
   },
   "file_extension": ".py",
   "mimetype": "text/x-python",
   "name": "python",
   "nbconvert_exporter": "python",
   "pygments_lexer": "ipython3",
   "version": "3.8.9"
  }
 },
 "nbformat": 4,
 "nbformat_minor": 5
}
