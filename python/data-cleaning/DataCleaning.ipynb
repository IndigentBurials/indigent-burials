{
 "cells": [
  {
   "cell_type": "markdown",
   "metadata": {
    "tags": []
   },
   "source": [
    "# **Environment Configuration**"
   ]
  },
  {
   "cell_type": "code",
   "execution_count": null,
   "metadata": {},
   "outputs": [],
   "source": [
    "import pandas as pd\n",
    "import numpy as np"
   ]
  },
  {
   "cell_type": "code",
   "execution_count": null,
   "metadata": {},
   "outputs": [],
   "source": [
    "# Missing value marks\n",
    "true_missing = -9\n",
    "derived_missing = -99"
   ]
  },
  {
   "cell_type": "markdown",
   "metadata": {
    "tags": []
   },
   "source": [
    "## Load Data"
   ]
  },
  {
   "cell_type": "code",
   "execution_count": null,
   "metadata": {},
   "outputs": [],
   "source": [
    "# Load indigent burial data\n",
    "#data = pd.read_csv(\"./data/indigent_burials.csv\")\n",
    "file_path = input(\"Path to CSV file: \")\n",
    "data = pd.read_csv(file_path)"
   ]
  },
  {
   "cell_type": "markdown",
   "metadata": {
    "tags": []
   },
   "source": [
    "# **To Do Cleaning Tasks**\n",
    "----"
   ]
  },
  {
   "cell_type": "markdown",
   "metadata": {
    "tags": []
   },
   "source": [
    "## Look into Location variable"
   ]
  },
  {
   "cell_type": "code",
   "execution_count": null,
   "metadata": {},
   "outputs": [],
   "source": [
    "data.Location.value_counts()"
   ]
  },
  {
   "cell_type": "markdown",
   "metadata": {
    "tags": []
   },
   "source": [
    "## Date of Birth"
   ]
  },
  {
   "cell_type": "code",
   "execution_count": null,
   "metadata": {},
   "outputs": [],
   "source": [
    "data.DOB.sort_values(ascending=True)"
   ]
  },
  {
   "cell_type": "markdown",
   "metadata": {
    "tags": []
   },
   "source": [
    "## Clean DOD\n",
    "\n",
    "If the death date is greater than 2022, subtract 100 from the year."
   ]
  },
  {
   "cell_type": "markdown",
   "metadata": {
    "tags": []
   },
   "source": [
    "# **Save Cleaned CSV File**\n",
    "----"
   ]
  },
  {
   "cell_type": "code",
   "execution_count": null,
   "metadata": {},
   "outputs": [],
   "source": [
    "file_name = input(\"File name: \")\n",
    "data.to_csv('./data/' + file_name + '.csv', index = False)"
   ]
  },
  {
   "cell_type": "markdown",
   "metadata": {
    "jp-MarkdownHeadingCollapsed": true,
    "tags": []
   },
   "source": [
    "# **Completed Cleaning Tasks**\n",
    "----"
   ]
  },
  {
   "cell_type": "markdown",
   "metadata": {},
   "source": [
    "## Append new Hart Island data to dataframe"
   ]
  },
  {
   "cell_type": "code",
   "execution_count": null,
   "metadata": {},
   "outputs": [],
   "source": [
    "# Load Hart Island Data\n",
    "hart_island = pd.read_csv(\"https://raw.githubusercontent.com/IndigentBurials/hart-island-web-scraper/main/data/output/hart-island.csv\")"
   ]
  },
  {
   "cell_type": "code",
   "execution_count": null,
   "metadata": {},
   "outputs": [],
   "source": [
    "# Drop all old Hart Island entries\n",
    "data = data[data['Jurisdiction'] != \"Hart Island\"]"
   ]
  },
  {
   "cell_type": "code",
   "execution_count": null,
   "metadata": {},
   "outputs": [],
   "source": [
    "# Combine add new hart island data back in\n",
    "data = pd.concat([data, hart_island])\n",
    "# Reset the index\n",
    "data = data.reset_index().drop(columns=['index'])"
   ]
  },
  {
   "cell_type": "markdown",
   "metadata": {},
   "source": [
    "## Standardize Sex column to M/F/U"
   ]
  },
  {
   "cell_type": "code",
   "execution_count": null,
   "metadata": {},
   "outputs": [],
   "source": [
    "# Standardize column values\n",
    "data['Sex'] = data['Sex'].str.upper()\n",
    "\n",
    "# Get list of aliases from data\n",
    "male_alias = ['MALE', 'M']\n",
    "female_alias = ['FEMALE', 'F']\n",
    "unknown_alias = ['UNKNOWN', 'UNSURE', '--']\n",
    "\n",
    "# Create list for sex\n",
    "sex_list = []\n",
    "\n",
    "for index, row in data.iterrows():\n",
    "    if row['Sex'] in male_alias:\n",
    "        sex_list.append(\"M\")\n",
    "    elif row['Sex'] in female_alias:\n",
    "        sex_list.append(\"F\")\n",
    "    else:\n",
    "        sex_list.append(\"U\")\n",
    "        \n",
    "data['Sex'] = sex_list"
   ]
  },
  {
   "cell_type": "markdown",
   "metadata": {},
   "source": [
    "## Drop Age Group Column"
   ]
  },
  {
   "cell_type": "code",
   "execution_count": null,
   "metadata": {},
   "outputs": [],
   "source": [
    "data = data.drop(columns=['AgeGroup'])"
   ]
  },
  {
   "cell_type": "markdown",
   "metadata": {},
   "source": [
    "## Standardize Age variable"
   ]
  },
  {
   "cell_type": "code",
   "execution_count": null,
   "metadata": {
    "tags": []
   },
   "outputs": [],
   "source": [
    "ages = list(data.Age)\n",
    "new_ages = []\n",
    "\n",
    "for age in ages:\n",
    "    # Try to cast to an integer\n",
    "    try:\n",
    "        # If we can cast the age to an integer, we append it here\n",
    "        t_age = int(age)\n",
    "        if t_age > 150:\n",
    "            new_ages.append(true_missing)\n",
    "        else:\n",
    "            new_ages.append(age)\n",
    "    except:\n",
    "        # If the value is missing, we replace it with the true missing value\n",
    "        if str(age) == \"nan\":\n",
    "            new_ages.append(true_missing)\n",
    "        # If it fails, there are underlying strings. This is indicative\n",
    "        # of a less-than-1-year-old, so we denote them as '0'.\n",
    "        else:\n",
    "            new_ages.append(0)\n",
    "\n",
    "# Reassign the column\n",
    "data['Age'] = new_ages"
   ]
  },
  {
   "cell_type": "markdown",
   "metadata": {
    "tags": []
   },
   "source": [
    "## Create flag for gather type"
   ]
  },
  {
   "cell_type": "code",
   "execution_count": null,
   "metadata": {},
   "outputs": [],
   "source": [
    "data['GatherType'] = 'Web Scraping'"
   ]
  },
  {
   "cell_type": "markdown",
   "metadata": {
    "tags": []
   },
   "source": [
    "## Fill NaN values with True/Derived missing values"
   ]
  },
  {
   "cell_type": "code",
   "execution_count": null,
   "metadata": {},
   "outputs": [],
   "source": [
    "data['LName'] = data['LName'].fillna(true_missing)\n",
    "data['FName'] = data['FName'].fillna(true_missing)\n",
    "data['MName'] = data['MName'].fillna(true_missing)\n",
    "data['OName'] = data['OName'].fillna(true_missing)\n",
    "data['Sex'] = data['Sex'].fillna(true_missing)\n",
    "data['RaceEthincity'] = data['RaceEthincity'].fillna(true_missing)\n",
    "data['DOB'] = data['DOB'].fillna(true_missing)\n",
    "data['DOD'] = data['DOD'].fillna(true_missing)\n",
    "data['DeathYear'] = data['DeathYear'].fillna(derived_missing)\n",
    "data['DBF'] = data['DBF'].fillna(true_missing)\n",
    "data['Mortuary'] = data['Mortuary'].fillna(true_missing)\n",
    "data['FuneralDirector'] = data['FuneralDirector'].fillna(true_missing)\n",
    "data['CaseNo'] = data['CaseNo'].fillna(true_missing)\n",
    "data['PD'] = data['PD'].fillna(true_missing)\n",
    "data['BD'] = data['BD'].fillna(true_missing)\n",
    "data['BurialYear'] = data['BurialYear'].fillna(derived_missing)\n",
    "data['CremationNo'] = data['CremationNo'].fillna(true_missing)\n",
    "data['GraveSection'] = data['GraveSection'].fillna(true_missing)\n",
    "data['GraveLot'] = data['GraveLot'].fillna(true_missing)\n",
    "data['GraveNo'] = data['GraveNo'].fillna(true_missing)\n",
    "data['Age'] = data['Age'].fillna(derived_missing)\n",
    "data['Jurisdiction'] = data['Jurisdiction'].fillna(true_missing)\n",
    "data['State'] = data['State'].fillna(derived_missing)\n",
    "data['County'] = data['County'].fillna(true_missing)\n",
    "data['CountyNo'] = data['CountyNo'].fillna(true_missing)\n",
    "data['City'] = data['City'].fillna(true_missing)\n",
    "data['Location'] = data['Location'].fillna(true_missing)\n",
    "data['CityOfBirth'] = data['CityOfBirth'].fillna(true_missing)\n",
    "data['StateOfBirth'] = data['StateOfBirth'].fillna(true_missing)\n",
    "data['SourceURL'] = data['SourceURL'].fillna(derived_missing)\n",
    "data['DateScraped'] = data['DateScraped'].fillna(derived_missing)\n",
    "data['LastModified'] = data['LastModified'].fillna(true_missing)\n",
    "data['Misc'] = data['Misc'].fillna(true_missing)\n",
    "data['isVeteran'] = data['isVeteran'].fillna(derived_missing)\n",
    "data['MilitaryAffiliation'] = data['MilitaryAffiliation'].fillna(true_missing)\n",
    "data['POD'] = data['POD'].fillna(true_missing)\n",
    "data['PlotNo'] = data['PlotNo'].fillna(true_missing)\n",
    "data['GatherType'] = data['GatherType'].fillna(derived_missing)"
   ]
  },
  {
   "cell_type": "markdown",
   "metadata": {
    "tags": []
   },
   "source": [
    "## Fix DeathYear Column"
   ]
  },
  {
   "cell_type": "code",
   "execution_count": null,
   "metadata": {
    "tags": []
   },
   "outputs": [],
   "source": [
    "dods = []\n",
    "for dod in list(data.DOD):\n",
    "    try:\n",
    "        t_date = pd.to_datetime(dod)\n",
    "        dods.append(t_date)\n",
    "    except:\n",
    "        dods.append(true_missing)\n",
    "        continue\n",
    "\n",
    "# Get death year\n",
    "death_years = []\n",
    "for dod in dods:\n",
    "    if dod == true_missing:\n",
    "        death_years.append(derived_missing)\n",
    "    else:\n",
    "        death_years.append(dod.year)\n",
    "\n",
    "data.DeathYear = death_years"
   ]
  },
  {
   "cell_type": "markdown",
   "metadata": {
    "tags": []
   },
   "source": [
    "## Drop isClaimed flag"
   ]
  },
  {
   "cell_type": "code",
   "execution_count": null,
   "metadata": {},
   "outputs": [],
   "source": [
    "data = data.drop(columns=['isClaimed'])"
   ]
  }
 ],
 "metadata": {
  "kernelspec": {
   "display_name": "Python 3",
   "language": "python",
   "name": "python3"
  },
  "language_info": {
   "codemirror_mode": {
    "name": "ipython",
    "version": 3
   },
   "file_extension": ".py",
   "mimetype": "text/x-python",
   "name": "python",
   "nbconvert_exporter": "python",
   "pygments_lexer": "ipython3",
   "version": "3.8.5"
  }
 },
 "nbformat": 4,
 "nbformat_minor": 4
}
